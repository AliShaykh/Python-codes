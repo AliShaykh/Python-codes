{
 "cells": [
  {
   "cell_type": "markdown",
   "metadata": {
    "collapsed": false
   },
   "source": [
    "Create a stack called magazine, and  add bullets in it and after every bullet shot display the status of the magazine."
   ]
  },
  {
   "cell_type": "code",
   "execution_count": 24,
   "metadata": {
    "collapsed": false
   },
   "outputs": [
    {
     "name": "stdout",
     "output_type": "stream",
     "text": [
      "6 bullets in magazine  : ['bullet', 'bullet', 'bullet', 'bullet', 'bullet', 'bullet']\n",
      "bullet shot !\n",
      "Remaining bullet :  5\n",
      "bullet shot !\n",
      "Remaining bullet :  4\n",
      "bullet shot !\n",
      "Remaining bullet :  3\n",
      "bullet shot !\n",
      "Remaining bullet :  2\n",
      "bullet shot !\n",
      "Remaining bullet :  1\n",
      "bullet shot !\n",
      "Remaining bullet :  0\n"
     ]
    }
   ],
   "source": [
    "magazine=list()\n",
    "for i in range(6):\n",
    "    magazine.append('bullet')\n",
    "print('6 bullets in magazine  : ',end=\"\")\n",
    "print(magazine)\n",
    "for i in reversed(range(6)):\n",
    "    print('bullet shot !')\n",
    "    magazine.pop()\n",
    "    print('Remaining bullet : ',i)"
   ]
  },
  {
   "cell_type": "markdown",
   "metadata": {
    "collapsed": false
   },
   "source": [
    "Create a queue and insert numbers in it and pop only that two number that have highest product."
   ]
  },
  {
   "cell_type": "code",
   "execution_count": 39,
   "metadata": {
    "collapsed": false
   },
   "outputs": [
    {
     "data": {
      "text/plain": [
       "[8, 9, 12, 5, 7]"
      ]
     },
     "execution_count": 39,
     "metadata": {
     },
     "output_type": "execute_result"
    },
    {
     "name": "stdout",
     "output_type": "stream",
     "text": [
      "highest product :  108\n",
      "num1 :  9  num2 :  12\n"
     ]
    },
    {
     "data": {
      "text/plain": [
       "2"
      ]
     },
     "execution_count": 39,
     "metadata": {
     },
     "output_type": "execute_result"
    }
   ],
   "source": [
    "MyQueue = list()\n",
    "\n",
    "MyQueue.append(8)\n",
    "MyQueue.append(9)\n",
    "MyQueue.append(12)\n",
    "MyQueue.append(5)\n",
    "MyQueue.append(7)\n",
    "\n",
    "product=MyQueue[0]*MyQueue[1]\n",
    "num1=MyQueue[0]\n",
    "num2=MyQueue[1]\n",
    "limit=len(MyQueue)\n",
    "for i in range(limit):\n",
    "    for j in range(limit):\n",
    "        if MyQueue[i]*MyQueue[j]>product and i!=j:\n",
    "            product=MyQueue[i]*MyQueue[j]\n",
    "            num1=MyQueue[i]\n",
    "            num2=MyQueue[j]\n",
    "display(MyQueue)\n",
    "print('highest product : ',product)\n",
    "print('num1 : ',num1,\" num2 : \",num2)\n",
    "MyQueue.index(num1)\n",
    "MyQueue.index(num2)\n"
   ]
  },
  {
   "cell_type": "markdown",
   "metadata": {
    "collapsed": false
   },
   "source": [
    "Create a doubly linked list."
   ]
  },
  {
   "cell_type": "code",
   "execution_count": 23,
   "metadata": {
    "collapsed": false
   },
   "outputs": [
    {
     "name": "stdout",
     "output_type": "stream",
     "text": [
      "L1f18bscs0398\n",
      "AI\n"
     ]
    }
   ],
   "source": [
    "class Node:\n",
    "    def __init__(self, Value=None):\n",
    "        self.DataValue = Value\n",
    "        self.NextValue = None\n",
    "        self.PreValue=None\n",
    "class MyLinkedList:\n",
    "    def __init__(self):\n",
    "        self.HeadValue = None\n",
    "    def Insert(self, NewValue):\n",
    "        NewNode = Node(NewValue)\n",
    "        if self.HeadValue is None:\n",
    "            self.HeadValue = NewNode\n",
    "            return\n",
    "        LastValue = self.HeadValue\n",
    "        while(LastValue.NextValue):\n",
    "            LastValue = LastValue.NextValue\n",
    "        NewNode.PreValue=LastValue\n",
    "        LastValue.NextValue=NewNode\n",
    "\n",
    "    def Remove(self, Removekey):\n",
    "        HeadValue = self.HeadValue\n",
    "        if (HeadValue is not None):\n",
    "            if (HeadValue.DataValue == Removekey):\n",
    "                self.HeadValue = HeadValue.NextValue\n",
    "                self.HeadValue.PreValue=None\n",
    "                HeadValue = None\n",
    "                return\n",
    "        while (HeadValue is not None):\n",
    "            if HeadValue.DataValue == Removekey:\n",
    "                break\n",
    "            Previous = HeadValue\n",
    "            HeadValue = HeadValue.NextValue\n",
    "        if (HeadValue == None):\n",
    "            return\n",
    "        if (HeadValue.NextValue is not None):\n",
    "            HeadValue.NextValue.PreValue=Previous\n",
    "        Previous.NextValue = HeadValue.NextValue\n",
    "        HeadValue = None\n",
    "    def LLprint(self):\n",
    "        PrintValue = self.HeadValue\n",
    "        while PrintValue is not None:\n",
    "            print (PrintValue.DataValue)\n",
    "            PrintValue = PrintValue.NextValue\n",
    "\n",
    "MyLinkList = MyLinkedList()\n",
    "MyLinkList.Insert(\"Usama Rafiq\")\n",
    "MyLinkList.Insert(\"L1f18bscs0398\")\n",
    "MyLinkList.Insert(\"AI\")\n",
    "\n",
    "MyLinkList.Remove(\"Usama Rafiq\")\n",
    "\n",
    "\n",
    "MyLinkList.LLprint()\n",
    "\n"
   ]
  },
  {
   "cell_type": "markdown",
   "metadata": {
    "collapsed": false
   },
   "source": [
    "Create a tree and add values to it and after that traverse it in such a way that first you will print leafs and then thier parents and so on."
   ]
  },
  {
   "cell_type": "code",
   "execution_count": 25,
   "metadata": {
    "collapsed": false
   },
   "outputs": [
    {
     "name": "stdout",
     "output_type": "stream",
     "text": [
      "50\n",
      "90\n",
      "80\n",
      "120\n",
      "100\n"
     ]
    }
   ],
   "source": [
    "class Node:\n",
    "    def __init__(self,Value):\n",
    "        self.left=None\n",
    "        self.right=None\n",
    "        self.Data=Value\n",
    "class Tree:\n",
    "    def createNode(self,Value):\n",
    "        return Node(Value)\n",
    "    def insert(self,Node,Value):\n",
    "        if Node is None:\n",
    "            return self.createNode(Value)\n",
    "        if Value<Node.Data:\n",
    "            Node.left=self.insert(Node.left,Value)\n",
    "        elif Value>Node.Data:\n",
    "            Node.right=self.insert(Node.right,Value)\n",
    "        return Node\n",
    "    def Display(self,root):\n",
    "        if root is not None:\n",
    "            self.Display(root.left)\n",
    "            self.Display(root.right)\n",
    "            print(root.Data)\n",
    "Root=None\n",
    "MyTree = Tree()\n",
    "Root = MyTree.insert(Root,100)\n",
    "MyTree.insert(Root, 80)\n",
    "MyTree.insert(Root,120)\n",
    "MyTree.insert(Root,90)\n",
    "MyTree.insert(Root,50)\n",
    "MyTree.Display(Root)"
   ]
  },
  {
   "cell_type": "markdown",
   "metadata": {
    "collapsed": false
   },
   "source": [
    "Create a grapgh and check that which edge has a common vertices"
   ]
  },
  {
   "cell_type": "code",
   "execution_count": 21,
   "metadata": {
    "collapsed": false
   },
   "outputs": [
    {
     "name": "stdout",
     "output_type": "stream",
     "text": [
      "dict_keys(['a', 'b', 'c', 'd', 'e'])\n",
      "dict_values([['b', 'c'], ['a', 'd'], ['a', 'd'], ['e'], ['d']])\n"
     ]
    }
   ],
   "source": [
    "# Vertices = {a, b, c, d, e}\n",
    "# Edges = {ab, ac, bd, cd, de}\n",
    "MyGrapgh = {\"a\" : [\"b\",\"c\"],\n",
    "            \"b\" : [\"a\", \"d\"],\n",
    "            \"c\" : [\"a\", \"d\"],\n",
    "            \"d\" : [\"e\"],\n",
    "            \"e\" : [\"d\"]\n",
    "           }\n",
    "Vertices = MyGrapgh.keys()\n",
    "Edges = MyGrapgh.values()\n",
    "print(Vertices)\n",
    "print(Edges)\n"
   ]
  },
  {
   "cell_type": "markdown",
   "metadata": {
    "collapsed": false
   },
   "source": [
    "Create a hash table and sort it according to its keys."
   ]
  },
  {
   "cell_type": "code",
   "execution_count": 35,
   "metadata": {
    "collapsed": false
   },
   "outputs": [
    {
     "name": "stdout",
     "output_type": "stream",
     "text": [
      "dict_keys(['1', '5', '2', '3'])\n",
      "1 :  Abdul Mateen : 2 :  FOIT : 3 :  AI : 5 :  Lab Instructor : "
     ]
    }
   ],
   "source": [
    "MyHash = {'1': 'Abdul Mateen', '5': 'Lab Instructor', '2': 'FOIT'}\n",
    "MyHash.update({'3' : 'AI'})\n",
    "print(MyHash.keys())\n",
    "\n",
    "for i in sorted (MyHash.keys()):\n",
    "    print(i , ': ',MyHash[i],end = \" : \")\n"
   ]
  },
  {
   "cell_type": "markdown",
   "metadata": {
    "collapsed": false
   },
   "source": [
    "Design and implement a class named Car that have private attributes name, number of doors and fuel economy. You have to implement the default constructor along with setters getters. Interface will perform required tasks and display the information about two Cars.\n",
    "\n",
    "<b>Input:</b>\n",
    "<br>\n",
    "Name of the Car: Chevrolet<br>\n",
    "Total Number of Doors: 4<br>\n",
    "Fuel Economy of the Car (Km/Liter): 11.5<br>"
   ]
  },
  {
   "cell_type": "code",
   "execution_count": 1,
   "metadata": {
    "collapsed": false
   },
   "outputs": [
    {
     "name": "stdout",
     "output_type": "stream",
     "text": [
      "Name of the Car :  Chevrolet\n",
      "Toatal Number of Doors :  4\n",
      "Fuel Economy of the Car(Km/Liter) :  11.5\n",
      "Name of the Car :  Chevrolet 2.0\n",
      "Toatal Number of Doors :  6\n",
      "Fuel Economy of the Car(Km/Liter) :  4.5\n"
     ]
    }
   ],
   "source": [
    "class Car:\n",
    "    \n",
    "    def __init__(self,Name,Doors,Fuel_eco):\n",
    "        self.Name=Name\n",
    "        self.Doors=Doors\n",
    "        self.Fuel_eco=Fuel_eco\n",
    "    def setName(self,Name):\n",
    "        self.Name=Name\n",
    "    def setDoors(self,Doors):\n",
    "        self.Doors=Doors\n",
    "    def setFuel(self,Fuel_eco):\n",
    "        self.Fuel_eco=Fuel_eco\n",
    "    def getName(self):\n",
    "        return self.Name\n",
    "    def getDoors(self):\n",
    "        return self.Doors\n",
    "    def getFuel(self):\n",
    "        return  self.Fuel_eco\n",
    "    def Display(self):\n",
    "        print('Name of the Car : ',self.Name)\n",
    "        print(\"Toatal Number of Doors : \",self.Doors)\n",
    "        print(\"Fuel Economy of the Car(Km/Liter) : \",self.Fuel_eco)\n",
    "MyCar=Car('Chevrolet',4,11.5)\n",
    "MyCar.Display()\n",
    "MyCar2=Car('Chevrolet 2.0',6,4.5)\n",
    "MyCar2.Display()\n"
   ]
  },
  {
   "cell_type": "markdown",
   "metadata": {
    "collapsed": false
   },
   "source": [
    "Design and implement a class named Student that have private attributes name, id, cell# and cgpa. You have to implement the default constructor along with setters getters. Interface will perform required tasks and display the information about three Students including their grade.\n",
    "\n",
    "<br><b>Note:</b> The grade will be awarded to students according to their final cgpa.\n",
    "\n",
    "<b>Input:</b>\n",
    "<br>Name of the Student: Adeel Anwar\n",
    "<br>Id of the Student: L1F12BSCS2099\n",
    "<br>Cell# of the Student: 03009999999\n",
    "<br>CGPA of the Student: 3"
   ]
  },
  {
   "cell_type": "code",
   "execution_count": 40,
   "metadata": {
    "collapsed": false
   },
   "outputs": [
    {
     "name": "stdout",
     "output_type": "stream",
     "text": [
      "Name of the Car :  Usama Rafiq\n",
      "id of the Student :  L1F18BSCS0398\n",
      "Cell# of the Student :  3086817173\n",
      "CGPA of the Student :  3.16\n",
      "\n",
      "Name of the Car :  Ali Shazada\n",
      "id of the Student :  L1F18BSCS0344\n",
      "Cell# of the Student :  3086414573\n",
      "CGPA of the Student :  3.5\n",
      "\n",
      "Name of the Car :  Osama Talat\n",
      "id of the Student :  L1F18BSCS0388\n",
      "Cell# of the Student :  3084545573\n",
      "CGPA of the Student :  2.2\n"
     ]
    }
   ],
   "source": [
    "class Student:\n",
    "    \n",
    "    def __init__(self,Name,RegNo,CellNumber,CGPA):\n",
    "        self.Name=Name\n",
    "        self.RegNo=RegNo\n",
    "        self.CellNumber=CellNumber\n",
    "        self.CGPA=CGPA\n",
    "    def setName(self,Name):\n",
    "        self.Name=Name\n",
    "    def setRegNo(self,RegNo):\n",
    "        self.RegNo=RegNo\n",
    "    def setCell_Number(self,CellNumber):\n",
    "        self.CellNumber=CellNumber\n",
    "    def setCGPA(self,CGPA):\n",
    "        self.CGPA=CGPA\n",
    "    def getName(self):\n",
    "        return self.Name\n",
    "    def getRegNo(self):\n",
    "        return self.RegNo\n",
    "    def getCell_Number(self):\n",
    "        return  self.CellNumber\n",
    "    def getCGPA(self):\n",
    "        return self.CGPA\n",
    "    def Display(self):\n",
    "        print('Name of the Car : ',self.Name)\n",
    "        print(\"id of the Student : \",self.RegNo)\n",
    "        print(\"Cell# of the Student : \",self.CellNumber)\n",
    "        print(\"CGPA of the Student : \",self.CGPA)\n",
    "Student1=Student('Usama Rafiq','L1F18BSCS0398',3086817173,3.16)\n",
    "Student1.Display()\n",
    "print(end='\\n')\n",
    "Student2=Student('Ali Shazada','L1F18BSCS0344',3086414573,3.5)\n",
    "Student2.Display()\n",
    "print(end='\\n')\n",
    "Student3=Student('Osama Talat','L1F18BSCS0388',3084545573,2.2)\n",
    "Student3.Display()\n"
   ]
  },
  {
   "cell_type": "markdown",
   "metadata": {
    "collapsed": false
   },
   "source": [
    "Next bridge software house Lahore requires an application that calculates employee’s increment on the given criteria. For the purpose software house wants his software engineer to design the application using object oriented approach. The class “NextBridge” is required to create with attributes and functions as mentioned below:\n",
    "\n",
    "<br>>name\n",
    "<br>>address\n",
    "<br>>phoneNumber \n",
    "<br>>level//fresh,junior,senior\n",
    "<br>>experience in years\n",
    "\n",
    "Implement the class having a parametrized constructor along with setters and getters. Also define a function that can calculate increment criteria based on the table below:\n",
    "\n",
    "<br>Experience&nbsp;&nbsp;&nbsp;&nbsp;Increment\n",
    "<br>0&nbsp;&nbsp;&nbsp;&nbsp;&nbsp;&nbsp;&nbsp;&nbsp;&nbsp;&nbsp;&nbsp;&nbsp;&nbsp;&nbsp;&nbsp;&nbsp;&nbsp;&nbsp;&nbsp;&nbsp;&nbsp;&nbsp;&nbsp;&nbsp;0%\n",
    "<br>1-2&nbsp;&nbsp;&nbsp;&nbsp;&nbsp;&nbsp;&nbsp;&nbsp;&nbsp;&nbsp;&nbsp;&nbsp;&nbsp;&nbsp;&nbsp;&nbsp;&nbsp;&nbsp;&nbsp;&nbsp;10%\n",
    "<br>2-5&nbsp;&nbsp;&nbsp;&nbsp;&nbsp;&nbsp;&nbsp;&nbsp;&nbsp;&nbsp;&nbsp;&nbsp;&nbsp;&nbsp;&nbsp;&nbsp;&nbsp;&nbsp;&nbsp;&nbsp;25%\n",
    "<br>5 to onward&nbsp;&nbsp;&nbsp;&nbsp;&nbsp;&nbsp;45%\n"
   ]
  },
  {
   "cell_type": "code",
   "execution_count": 18,
   "metadata": {
    "collapsed": false
   },
   "outputs": [
    {
     "name": "stdout",
     "output_type": "stream",
     "text": [
      "Name of Employee :  Usama Rafiq\n",
      "Address of Employee :  Lahore\n",
      "Phone Number of Emloyee :  0308-6845485\n",
      "Level of emplyee :  senior\n",
      "Experience of emplyee :  5\n",
      "increment in salary will be 45% \n"
     ]
    }
   ],
   "source": [
    "class Employee:\n",
    "    def __init__(self,Name,Address,PhoneNumber,Level,experience):\n",
    "        self.Name=Name\n",
    "        self.Address=Address\n",
    "        self.PhoneNumber=PhoneNumber\n",
    "        self.Level=Level\n",
    "        self.experience=experience\n",
    "    def setName(self,Name):\n",
    "        self.Name=Name\n",
    "    def setAddress(self,Address):\n",
    "        self.Address=Address\n",
    "    def setPhoneNumber(self,PhoneNumber):\n",
    "        self.PhoneNumber=PhoneNumber\n",
    "    def setLevel(self,Level):\n",
    "        self.Level=Level\n",
    "    def setexperience(self,experience):\n",
    "        self.experience=experience\n",
    "    def getName(self):\n",
    "        return self.Name\n",
    "    def getAddress(self):\n",
    "        return self.Address\n",
    "    def getPhoneNumber(self):\n",
    "        return self.PhoneNumber\n",
    "    def getLevel(self):\n",
    "        return self.Level\n",
    "    def getexperience(self):\n",
    "        return self.experience\n",
    "    def increment(self):\n",
    "        if self.experience==0:\n",
    "            print('increment in salary will be 0%')\n",
    "        elif self.experience>0 and self.experience<3:\n",
    "            print('increment in salary will be 10%')\n",
    "        elif self.experience>2 and self.experience<5:\n",
    "            print('increment in salary will be 25%')\n",
    "        elif self.experience>=5:\n",
    "            print(\"increment in salary will be 45% \")\n",
    "    def Display(self):\n",
    "        print('Name of Employee : ',self.Name)\n",
    "        print('Address of Employee : ',self.Address)\n",
    "        print('Phone Number of Emloyee : ',self.PhoneNumber)\n",
    "        print('Level of emplyee : ',self.Level)\n",
    "        print('Experience of emplyee : ',self.experience)\n",
    "emp1=Employee('Usama Rafiq','Lahore','0308-6845485','senior',5)\n",
    "emp1.Display()\n",
    "emp1.increment()"
   ]
  },
  {
   "cell_type": "code",
   "execution_count": 0,
   "metadata": {
    "collapsed": false
   },
   "outputs": [
   ],
   "source": [
   ]
  }
 ],
 "metadata": {
  "kernelspec": {
   "display_name": "Python 3 (system-wide)",
   "language": "python",
   "metadata": {
    "cocalc": {
     "description": "Python 3 programming language",
     "priority": 100,
     "url": "https://www.python.org/"
    }
   },
   "name": "python3",
   "resource_dir": "/ext/jupyter/kernels/python3"
  },
  "language_info": {
   "codemirror_mode": {
    "name": "ipython",
    "version": 3
   },
   "file_extension": ".py",
   "mimetype": "text/x-python",
   "name": "python",
   "nbconvert_exporter": "python",
   "pygments_lexer": "ipython3",
   "version": "3.8.10"
  }
 },
 "nbformat": 4,
 "nbformat_minor": 4
}